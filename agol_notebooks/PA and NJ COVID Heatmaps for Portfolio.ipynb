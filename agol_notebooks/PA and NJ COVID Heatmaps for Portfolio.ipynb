{
 "cells": [
  {
   "cell_type": "markdown",
   "id": "f9b9082e",
   "metadata": {},
   "source": [
    "## 30 Day Map Challenge - 11/27 -  Heatmaps: United States COVID-19 Testing Sites"
   ]
  },
  {
   "cell_type": "markdown",
   "id": "b2ddfcf7",
   "metadata": {},
   "source": [
    "Also known as hotspot maps, heatmaps are useful for visualizing point density. They can be used to show relative densities of COVID-19 testing sites in the United States. This project will analyze testing across several states. It will include overlays for population and political representation (by party). \n",
    "\n",
    "Technology Summary -\n",
    "* ArcGIS Notebook -A Jupyter Notebook environment. Docker image of latest version from ESRI.\n",
    "* Leaflet - Open source ipynb\n"
   ]
  },
  {
   "cell_type": "code",
   "execution_count": 148,
   "id": "68820013",
   "metadata": {},
   "outputs": [],
   "source": [
    "import arcgis\n",
    "from arcgis.gis import GIS \n",
    "import pandas as pd\n",
    "from datetime import datetime as dt\n",
    "from IPython.display import display\n",
    "\n",
    "my_gis = GIS() "
   ]
  },
  {
   "cell_type": "code",
   "execution_count": 57,
   "id": "8e9218ad",
   "metadata": {},
   "outputs": [
    {
     "data": {
      "text/html": [
       "<div class=\"item_container\" style=\"height: auto; overflow: hidden; border: 1px solid #cfcfcf; border-radius: 2px; background: #f6fafa; line-height: 1.21429em; padding: 10px;\">\n",
       "                    <div class=\"item_left\" style=\"width: 210px; float: left;\">\n",
       "                       <a href='https://www.arcgis.com/home/item.html?id=d7d10caf1cec43e0985cc90fbbcf91cb' target='_blank'>\n",
       "                        <img src='https://www.arcgis.com/sharing/rest//content/items/d7d10caf1cec43e0985cc90fbbcf91cb/info/thumbnail/thumbnail1593193526337.png' class=\"itemThumbnail\">\n",
       "                       </a>\n",
       "                    </div>\n",
       "\n",
       "                    <div class=\"item_right\"     style=\"float: none; width: auto; overflow: hidden;\">\n",
       "                        <a href='https://www.arcgis.com/home/item.html?id=d7d10caf1cec43e0985cc90fbbcf91cb' target='_blank'><b>GISCorps COVID-19 Testing Locations in the United States Symbolized by Test Type</b>\n",
       "                        </a>\n",
       "                        <br/>COVID-19 testing locations in U.S. states and territories compiled and updated by GISCorps volunteers. Information is sourced from public information shared by health departments, local governments, and healthcare providers.<img src='https://www.arcgis.com/home/js/jsapi/esri/css/images/item_type_icons/featureshosted16.png' style=\"vertical-align:middle;\">Feature Layer Collection by htorpey_GC\n",
       "                        <br/>Last Modified: October 16, 2021\n",
       "                        <br/>0 comments, 104,326 views\n",
       "                    </div>\n",
       "                </div>\n",
       "                "
      ],
      "text/plain": [
       "<Item title:\"GISCorps COVID-19 Testing Locations in the United States Symbolized by Test Type\" type:Feature Layer Collection owner:htorpey_GC>"
      ]
     },
     "execution_count": 57,
     "metadata": {},
     "output_type": "execute_result"
    }
   ],
   "source": [
    "# import dataset from AGOL using item id\n",
    "item_id = 'd7d10caf1cec43e0985cc90fbbcf91cb' # GISCorps COVID-19 Testing Locations in the United States Symbolized by Status\n",
    "ago_item = my_agol.content.get(item_id)\n",
    "ago_item"
   ]
  },
  {
   "cell_type": "markdown",
   "id": "f48358e6",
   "metadata": {},
   "source": [
    "## 1.) Heatmap testing sites in Pennsylvania\n",
    "* What does a heatmap over the state show?"
   ]
  },
  {
   "cell_type": "code",
   "execution_count": 108,
   "id": "6ac29c75",
   "metadata": {},
   "outputs": [],
   "source": [
    "# convert from item to feature layer then create local spatial dataframe with point geometry\n",
    "fl_sites = ago_item.layers[0] \n",
    "\n",
    "us_state = 'PA'\n",
    "searchby_state = f\"State='{us_state}' \"\n",
    "sdf_sites_pa = fl_sites.query(where= searchby_state,\n",
    "                           return_geometry=True,\n",
    "                           as_df=True)"
   ]
  },
  {
   "cell_type": "code",
   "execution_count": 68,
   "id": "e89ab4a0",
   "metadata": {},
   "outputs": [
    {
     "name": "stdout",
     "output_type": "stream",
     "text": [
      "Shape of Dataframe: \n",
      "(1134, 51)\n"
     ]
    }
   ],
   "source": [
    "print(f'Shape of Dataframe: \\n{sdf_sites.shape}')"
   ]
  },
  {
   "cell_type": "code",
   "execution_count": 69,
   "id": "bd971b71",
   "metadata": {},
   "outputs": [
    {
     "name": "stdout",
     "output_type": "stream",
     "text": [
      "Columns in COVID-19 Testing Sites Layer: \n",
      "['OBJECTID', 'facilityid', 'name', 'fulladdr', 'municipality', 'agency', 'agencytype', 'phone', 'agencyurl', 'operhours', 'comments', 'Instructions', 'numvehicles', 'testcapacity', 'status', 'CreationDate', 'EditDate', 'Vetted', 'drive_through', 'appt_only', 'referral_required', 'services_offered_onsite', 'call_first', 'virtual_screening', 'health_dept_url', 'State', 'GlobalID', 'data_source', 'county', 'red_flag', 'vol_note', 'public_form', 'start_date', 'end_date', 'type_of_test', 'test_processing', 'fine_print', 'vehicle_required', 'facility_type', 'Outside_FID', 'filter', 'minimum_age', 'Same_Day_Results', 'take_home_test', 'Wheelchair_Accessible', 'Accessibility_Support', 'offers_vaccine', 'vaccine_url', 'minimum_age_vaccine', 'verified_date', 'SHAPE']\n"
     ]
    }
   ],
   "source": [
    "print(f'Columns in COVID-19 Testing Sites Layer: \\n{list(sdf_sites.columns)}')"
   ]
  },
  {
   "cell_type": "code",
   "execution_count": 109,
   "id": "f2c9b0c3",
   "metadata": {},
   "outputs": [
    {
     "name": "stdout",
     "output_type": "stream",
     "text": [
      "# of COVID-19 Testing Sites in PA:\n",
      "\t 1134\n"
     ]
    },
    {
     "data": {
      "application/vnd.jupyter.widget-view+json": {
       "model_id": "3e1f7affc1bf4adc8493972890cb7d78",
       "version_major": 2,
       "version_minor": 0
      },
      "text/plain": [
       "MapView(layout=Layout(height='400px', width='100%'))"
      ]
     },
     "metadata": {},
     "output_type": "display_data"
    },
    {
     "data": {
      "text/html": [
       "<div class=\"map-static-img-preview-5575b40e-69bd-4583-8b14-e9a2f90a49ed\"><img src=\"\"></img></div>"
      ],
      "text/plain": [
       "<IPython.core.display.HTML object>"
      ]
     },
     "metadata": {},
     "output_type": "display_data"
    },
    {
     "data": {
      "text/html": [
       "<div class=\"map-html-embed-preview-5575b40e-69bd-4583-8b14-e9a2f90a49ed\"></div>"
      ],
      "text/plain": [
       "<IPython.core.display.HTML object>"
      ]
     },
     "metadata": {},
     "output_type": "display_data"
    }
   ],
   "source": [
    "# initialize map over states - then subset the agol layer \n",
    "state_abr = 'PA'\n",
    "state_name = 'Pennyslvania'\n",
    "pa_map = my_gis.map(state_name, zoomlevel = 7)\n",
    "\n",
    "# how many features in the subset?\n",
    "print(f'# of COVID-19 Testing Sites in {state_abr}:\\n\\t { sdf_sites_pa.shape[0] }')\n",
    "\n",
    "# subset the spatial dataframe then plot on the map as heatmap\n",
    "searchby_state = f\"State='{us_state}' \"\n",
    "fset_state = fl_sites.query(where = searchby_state)\n",
    "\n",
    "display(pa_map)\n",
    "\n"
   ]
  },
  {
   "cell_type": "code",
   "execution_count": 110,
   "id": "2793531e",
   "metadata": {},
   "outputs": [],
   "source": [
    "pa_map.add_layer(fset_state,   { \"type\": \"FeatureLayer\",\n",
    "                                \"renderer\":\"HeatMap\"})"
   ]
  },
  {
   "cell_type": "markdown",
   "id": "a10241d6",
   "metadata": {},
   "source": [
    "There are some noticeable differences with the ArcGIS Notebook library plotting a heatmap using the `add_layer` in the `arcgis.mapping` module. From the Pennsylvania map, we can see the default settings provide a heatmap with a red faint/dark gradient.\n",
    "\n",
    "Next, we'll plot a heatmap over New Jersey using a spatial dataframe. This data object is stored locally, so additional manipulations can occur prior to plotting it on the map."
   ]
  },
  {
   "cell_type": "markdown",
   "id": "00150130",
   "metadata": {},
   "source": [
    "**Visualize New Jersey by plotting a spatial dataframe as a heatmap.**"
   ]
  },
  {
   "cell_type": "code",
   "execution_count": 114,
   "id": "43afe72b",
   "metadata": {},
   "outputs": [
    {
     "name": "stdout",
     "output_type": "stream",
     "text": [
      "# of COVID-19 Testing Sites in NJ:\n",
      "\t 780\n"
     ]
    },
    {
     "data": {
      "application/vnd.jupyter.widget-view+json": {
       "model_id": "38aae1b4bdf143c190b3612aff66da3c",
       "version_major": 2,
       "version_minor": 0
      },
      "text/plain": [
       "MapView(layout=Layout(height='400px', width='100%'))"
      ]
     },
     "metadata": {},
     "output_type": "display_data"
    },
    {
     "data": {
      "text/html": [
       "<div class=\"map-static-img-preview-3f4d0c9a-81d4-42f1-bde7-2416604220ae\"><img src=\"\"></img></div>"
      ],
      "text/plain": [
       "<IPython.core.display.HTML object>"
      ]
     },
     "metadata": {},
     "output_type": "display_data"
    },
    {
     "data": {
      "text/html": [
       "<div class=\"map-html-embed-preview-3f4d0c9a-81d4-42f1-bde7-2416604220ae\"></div>"
      ],
      "text/plain": [
       "<IPython.core.display.HTML object>"
      ]
     },
     "metadata": {},
     "output_type": "display_data"
    }
   ],
   "source": [
    "us_state = 'NJ'\n",
    "searchby_state = f\"State='{us_state}' \"\n",
    "sdf_sites_nj = fl_sites.query(where= searchby_state,\n",
    "                           return_geometry=True,\n",
    "                           as_df=True)\n",
    "\n",
    "# how many features in the subset?\n",
    "print(f'# of COVID-19 Testing Sites in {us_state}:\\n\\t { sdf_sites_nj.shape[0] }')\n",
    "\n",
    "# initialize map over states - then subset the agol layer \n",
    "state_name = 'New Jersey'\n",
    "nj_map = my_gis.map(state_name, zoomlevel = 7)\n",
    "\n",
    "display(nj_map)\n"
   ]
  },
  {
   "cell_type": "code",
   "execution_count": 115,
   "id": "1df85ef2",
   "metadata": {},
   "outputs": [
    {
     "name": "stderr",
     "output_type": "stream",
     "text": [
      "/opt/conda/lib/python3.8/site-packages/arcgis/features/geo/_accessor.py:3150: UserWarning: Discarding nonzero nanoseconds in conversion\n",
      "  fs = self.__feature_set__\n"
     ]
    },
    {
     "data": {
      "text/plain": [
       "True"
      ]
     },
     "execution_count": 115,
     "metadata": {},
     "output_type": "execute_result"
    }
   ],
   "source": [
    "# plot the sdf over the state using the heatmap mapping render \n",
    "sdf_sites_nj.spatial.plot(kind='map', map_widget=nj_map,\n",
    "        renderer_type='h',blur_radius = 5 ) "
   ]
  },
  {
   "cell_type": "markdown",
   "id": "5db04f7a",
   "metadata": {},
   "source": [
    "According to [ESRI Documentation](https://developers.arcgis.com/python/api-reference/arcgis.mapping.toc.html?highlight=renderer): \n",
    "> The `HeatmapRenderer` renders point data into a raster visualization that emphasizes areas of higher density or weighted values.\n",
    "\n",
    "The renderer can be configured to change the field on which the heatmap is created (`field`). You can also specify `ratio`, `blur_radis`, and `min/max intensity`. I adjusted the `blur_radius` in the New Jersey map because the default setting was too overwhleming and appeared to swallow most of state. With an added `blur_radius`, we can see some more specificity in terms of where testing sites are more clustered geographically (in the southwest and northeast). "
   ]
  },
  {
   "cell_type": "markdown",
   "id": "0481ff7a",
   "metadata": {},
   "source": [
    "**Interesting Notes**\n",
    "* <u>UI to toggle layers is odd</u> -  Instead of being able to execute code to add a layer within the same Jupyter Notebook cell, the `arcgis.gis` library appears to require execution in a separate cell after the underlying map widget is initialized. I think this is an odd behavior although still logical to follow because of the linear nature of the environment."
   ]
  },
  {
   "cell_type": "markdown",
   "id": "7156540f",
   "metadata": {},
   "source": [
    "## 2.) Visualizing Population\n",
    "I presume testing sites would be more available (dense) in more populus locations. \n",
    "* What does a map with an underlying choropleth map suggest?"
   ]
  },
  {
   "cell_type": "code",
   "execution_count": 121,
   "id": "b31267f7",
   "metadata": {},
   "outputs": [],
   "source": [
    "# import GeoJSON as feature object. from NJDEP Bureau of GIS data\n",
    "import requests\n",
    "\n",
    "# link build\n",
    "opendata_url = 'https://opendata.arcgis.com/datasets/'\n",
    "njdep_id = '1eb5fa03038d49cba930096ea67194e0_5'\n",
    "parcels_link = ''.join([opendata_url, njdep_id, '.geojson'])\n",
    "\n",
    "geojson_njdep = 'https://opendata.arcgis.com/datasets/5f45e1ece6e14ef5866974a7b57d3b95_1.geojson'"
   ]
  },
  {
   "cell_type": "code",
   "execution_count": 124,
   "id": "64d17b33",
   "metadata": {},
   "outputs": [
    {
     "name": "stderr",
     "output_type": "stream",
     "text": [
      "/opt/conda/lib/python3.8/site-packages/arcgis/features/feature.py:995: UserWarning: crs has been deprecated and will be ignored. Please see: https://tools.ietf.org/html/rfc7946#section-4 for more information.\n",
      "  warn(\n"
     ]
    }
   ],
   "source": [
    "# read in parcel json\n",
    "raw_parcels_json = requests.get(geojson_njdep).json()\n",
    "\n",
    "# convert json to arcgis FeatureSet\n",
    "njdep_counties = arcgis.features.FeatureSet.from_geojson(raw_parcels_json)"
   ]
  },
  {
   "cell_type": "markdown",
   "id": "ed88f1d0",
   "metadata": {},
   "source": [
    "### Drawing from an external data. Using a GeoJSON of counties from the New Jersey DEP, draw the features over a notebook webmap.\n",
    "\n",
    "<u>**ESRI - Software Limitation**</u>: I wish there were more configurations availabled to consume public APIs like GeoJSON. I found one that's hosted on ArcGIS from a state department (NJ DEP), but it seems like the only functionality provided is to draw gray polygons on the web map widget. There are no customizations or extensive plotting options for the geometries, the complete opposite of what's offered with ArcGIS Online items. This design surely keeps users tied to the ArcGIS ecosystem.\n",
    "\n",
    "I'd imagine the workaround here is to import the GeoJSON as a new AGOL item, and then import the instiated item as a `FeatureSet` object."
   ]
  },
  {
   "cell_type": "code",
   "execution_count": 137,
   "id": "bf47ced0",
   "metadata": {},
   "outputs": [
    {
     "data": {
      "application/vnd.jupyter.widget-view+json": {
       "model_id": "13f0c8b02ff94395a0e898f989323d5a",
       "version_major": 2,
       "version_minor": 0
      },
      "text/plain": [
       "MapView(layout=Layout(height='400px', width='100%'))"
      ]
     },
     "metadata": {},
     "output_type": "display_data"
    },
    {
     "data": {
      "text/html": [
       "<div class=\"map-static-img-preview-9aee7991-f76c-43d3-8785-41001be480c5\"><img src=\"\"></img></div>"
      ],
      "text/plain": [
       "<IPython.core.display.HTML object>"
      ]
     },
     "metadata": {},
     "output_type": "display_data"
    },
    {
     "data": {
      "text/html": [
       "<div class=\"map-html-embed-preview-9aee7991-f76c-43d3-8785-41001be480c5\"></div>"
      ],
      "text/plain": [
       "<IPython.core.display.HTML object>"
      ]
     },
     "metadata": {},
     "output_type": "display_data"
    }
   ],
   "source": [
    "# draw the geojson on a new NJ map \n",
    "nj_map2 = my_gis.map(\"New Jersey\", zoomlevel = 7)\n",
    "\n",
    "nj_map2"
   ]
  },
  {
   "cell_type": "code",
   "execution_count": 138,
   "id": "cc22fb2d",
   "metadata": {},
   "outputs": [],
   "source": [
    "nj_map2.draw(njdep_counties) # draws counties from DEP as gray polygons on map widget"
   ]
  },
  {
   "cell_type": "markdown",
   "id": "2659b583",
   "metadata": {},
   "source": [
    "### Use the NJ DEP source from AGOL to plot as a choropleth map.\n",
    "Given the limitations to just draw polygons from the GeoJSON geometries, I'll instead import the ArcGIS Online item from the NJ DEP - [link here.](https://www.arcgis.com/home/item.html?id=5f45e1ece6e14ef5866974a7b57d3b95)"
   ]
  },
  {
   "cell_type": "code",
   "execution_count": 166,
   "id": "617ef82b",
   "metadata": {},
   "outputs": [
    {
     "data": {
      "application/vnd.jupyter.widget-view+json": {
       "model_id": "b553bb5c9dfe408fa57d6252223768e1",
       "version_major": 2,
       "version_minor": 0
      },
      "text/plain": [
       "MapView(layout=Layout(height='400px', width='100%'))"
      ]
     },
     "metadata": {},
     "output_type": "display_data"
    },
    {
     "data": {
      "text/html": [
       "<div class=\"map-static-img-preview-8d1a3c87-7c1d-4dcd-b933-2100f0cc96e2\"><img src=\"\"></img></div>"
      ],
      "text/plain": [
       "<IPython.core.display.HTML object>"
      ]
     },
     "metadata": {},
     "output_type": "display_data"
    },
    {
     "data": {
      "text/html": [
       "<div class=\"map-html-embed-preview-8d1a3c87-7c1d-4dcd-b933-2100f0cc96e2\"></div>"
      ],
      "text/plain": [
       "<IPython.core.display.HTML object>"
      ]
     },
     "metadata": {},
     "output_type": "display_data"
    }
   ],
   "source": [
    "# set up another map for choropleth layer from agol item\n",
    "nj_map3 = my_gis.map(\"New Jersey\", zoomlevel = 7)\n",
    "nj_map3"
   ]
  },
  {
   "cell_type": "code",
   "execution_count": 146,
   "id": "69714f75",
   "metadata": {},
   "outputs": [
    {
     "name": "stdout",
     "output_type": "stream",
     "text": [
      "\n",
      "AGOL Item - Object type:\n",
      "<class 'arcgis.gis.Item'> \n"
     ]
    },
    {
     "data": {
      "text/html": [
       "<div class=\"item_container\" style=\"height: auto; overflow: hidden; border: 1px solid #cfcfcf; border-radius: 2px; background: #f6fafa; line-height: 1.21429em; padding: 10px;\">\n",
       "                    <div class=\"item_left\" style=\"width: 210px; float: left;\">\n",
       "                       <a href='https://www.arcgis.com/home/item.html?id=5f45e1ece6e14ef5866974a7b57d3b95' target='_blank'>\n",
       "                        <img src='https://www.arcgis.com/sharing/rest//content/items/5f45e1ece6e14ef5866974a7b57d3b95/info/thumbnail/thumbnail.JPEG' class=\"itemThumbnail\">\n",
       "                       </a>\n",
       "                    </div>\n",
       "\n",
       "                    <div class=\"item_right\"     style=\"float: none; width: auto; overflow: hidden;\">\n",
       "                        <a href='https://www.arcgis.com/home/item.html?id=5f45e1ece6e14ef5866974a7b57d3b95' target='_blank'><b>County Boundaries of NJ</b>\n",
       "                        </a>\n",
       "                        <br/>To provide basic jurisdictional information. This data set was developed to produce the most accurate delineation of county boundaries achievable from existing data sources.<img src='https://www.arcgis.com/home/js/jsapi/esri/css/images/item_type_icons/featureshosted16.png' style=\"vertical-align:middle;\">Feature Layer Collection by NJOGIS\n",
       "                        <br/>Last Modified: April 27, 2020\n",
       "                        <br/>0 comments, 660,374 views\n",
       "                    </div>\n",
       "                </div>\n",
       "                "
      ],
      "text/plain": [
       "<Item title:\"County Boundaries of NJ\" type:Feature Layer Collection owner:NJOGIS>"
      ]
     },
     "execution_count": 146,
     "metadata": {},
     "output_type": "execute_result"
    }
   ],
   "source": [
    "# import dataset from AGOL using item id\n",
    "item_id = '5f45e1ece6e14ef5866974a7b57d3b95'\n",
    "ago_item = my_agol.content.get(item_id)\n",
    "print(f'\\nAGOL Item - Object type:\\n{type(ago_item)} ')\n",
    "ago_item\n",
    "\n"
   ]
  },
  {
   "cell_type": "code",
   "execution_count": 157,
   "id": "d8b49baa",
   "metadata": {},
   "outputs": [
    {
     "name": "stdout",
     "output_type": "stream",
     "text": [
      "\n",
      "Feature Layer - Object type:\n",
      "<class 'arcgis.features.layer.FeatureLayer'> \n",
      "\n",
      "Columns in NJ DEP Counties Layer: \n",
      "['OBJECTID', 'COUNTY', 'COUNTY_LABEL', 'CO', 'GNIS_NAME', 'GNIS', 'FIPSSTCO', 'FIPSCO', 'ACRES', 'SQ_MILES', 'POP2010', 'POP2000', 'POP1990', 'POP1980', 'POPDEN2010', 'POPDEN2000', 'POPDEN1990', 'POPDEN1980', 'REGION', 'GLOBALID', 'Shape_Length', 'Shape_Area', 'SHAPE']\n"
     ]
    }
   ],
   "source": [
    "# convert from item to feature layer then create local spatial dataframe with point geometry\n",
    "fl_njCounties = ago_item.layers[0]\n",
    "\n",
    "print(f'\\nFeature Layer - Object type:\\n{type(fl_njCounties)} ')\n",
    "\n",
    "# review the fields in the data to get pop density column name\n",
    "sdf_njCounties = fl_njCounties.query(where= '1=1',\n",
    "                           return_geometry=True,\n",
    "                           as_df=True)\n",
    "\n",
    "print(f'\\nColumns in NJ DEP Counties Layer: \\n{list(sdf_njCounties.columns)}')"
   ]
  },
  {
   "cell_type": "markdown",
   "id": "82043c92",
   "metadata": {},
   "source": [
    "Here I will define parameters to visualize the data layer as a choropleth given a specific field. I'll pick population density, as shown in the cell above (`POP2010`)"
   ]
  },
  {
   "cell_type": "code",
   "execution_count": 162,
   "id": "767cd108",
   "metadata": {},
   "outputs": [
    {
     "data": {
      "image/png": "[encoded data removed]",
      "text/plain": [
       "<Figure size 432x2160 with 150 Axes>"
      ]
     },
     "metadata": {
      "needs_background": "light"
     },
     "output_type": "display_data"
    }
   ],
   "source": [
    "# review color maps available in the `arcgis.mapping` module\n",
    "from arcgis.mapping import display_colormaps\n",
    "display_colormaps()"
   ]
  },
  {
   "cell_type": "code",
   "execution_count": 160,
   "id": "0632f888",
   "metadata": {},
   "outputs": [],
   "source": [
    "# nj_map3.add_layer(fl_njCounties, {'title':'2012 crime in LA city',\n",
    "#                        'opacity':0.5,\n",
    "#                        'visibility':False,\n",
    "#                         'colors': })"
   ]
  },
  {
   "cell_type": "code",
   "execution_count": 167,
   "id": "8806b7a6",
   "metadata": {},
   "outputs": [
    {
     "data": {
      "text/plain": [
       "True"
      ]
     },
     "execution_count": 167,
     "metadata": {},
     "output_type": "execute_result"
    }
   ],
   "source": [
    "# add layer as choropleth using pop density fields\n",
    "# nj_map3.add_layer(fl_njCounties)\n",
    "\n",
    "sdf_njCounties.spatial.plot(kind='map', \n",
    "                            map_widget=nj_map3,\n",
    "                            renderer_type='c', # specify the unique value renderer using its notation 'u'\n",
    "                            method = 'esriClassifyNaturalBreaks',\n",
    "                            class_count = 12,\n",
    "                            cmap=\"RdPu\",\n",
    "                            alpha=\"0.5\",\n",
    "                            col='POPDEN2010')  # column to get unique values from"
   ]
  },
  {
   "cell_type": "code",
   "execution_count": 168,
   "id": "4ed8d4a2",
   "metadata": {},
   "outputs": [
    {
     "data": {
      "application/vnd.jupyter.widget-view+json": {
       "model_id": "b553bb5c9dfe408fa57d6252223768e1",
       "version_major": 2,
       "version_minor": 0
      },
      "text/plain": [
       "MapView(jupyter_target='notebook', layout=Layout(height='400px', width='100%'), legend=True, ready=True)"
      ]
     },
     "metadata": {},
     "output_type": "display_data"
    },
    {
     "data": {
      "text/html": [
       "<div class=\"map-static-img-preview-8d1a3c87-7c1d-4dcd-b933-2100f0cc96e2\"><img src=\"\"></img></div>"
      ],
      "text/plain": [
       "<IPython.core.display.HTML object>"
      ]
     },
     "metadata": {},
     "output_type": "display_data"
    },
    {
     "data": {
      "text/html": [
       "<div class=\"map-html-embed-preview-8d1a3c87-7c1d-4dcd-b933-2100f0cc96e2\"></div>"
      ],
      "text/plain": [
       "<IPython.core.display.HTML object>"
      ]
     },
     "metadata": {},
     "output_type": "display_data"
    }
   ],
   "source": [
    "nj_map3.legend = True\n",
    "nj_map3"
   ]
  },
  {
   "cell_type": "markdown",
   "id": "606c8e23",
   "metadata": {},
   "source": [
    "# OLD - "
   ]
  },
  {
   "cell_type": "code",
   "execution_count": 116,
   "id": "e62eb58f",
   "metadata": {},
   "outputs": [
    {
     "data": {
      "text/html": [
       "<div class=\"item_container\" style=\"height: auto; overflow: hidden; border: 1px solid #cfcfcf; border-radius: 2px; background: #f6fafa; line-height: 1.21429em; padding: 10px;\">\n",
       "                    <div class=\"item_left\" style=\"width: 210px; float: left;\">\n",
       "                       <a href='https://www.arcgis.com/home/item.html?id=a8407298de7e48078a2bc9cdd76c79af' target='_blank'>\n",
       "                        <img src='https://www.arcgis.com/sharing/rest//content/items/a8407298de7e48078a2bc9cdd76c79af/info/thumbnail/thumbnail1624481046899.png' class=\"itemThumbnail\">\n",
       "                       </a>\n",
       "                    </div>\n",
       "\n",
       "                    <div class=\"item_right\"     style=\"float: none; width: auto; overflow: hidden;\">\n",
       "                        <a href='https://www.arcgis.com/home/item.html?id=a8407298de7e48078a2bc9cdd76c79af' target='_blank'><b>2021 USA Population Density</b>\n",
       "                        </a>\n",
       "                        <br/>This layer shows the population density in the United States in 2021 in persons per square mile in a multiscale map by country, state, county, ZIP Code, tract, and block group. ArcGIS Online subscription required.<img src='https://www.arcgis.com/home/js/jsapi/esri/css/images/item_type_icons/mapimages16.png' style=\"vertical-align:middle;\">Map Image Layer by esri\n",
       "                        <br/>Last Modified: June 25, 2021\n",
       "                        <br/>0 comments, 52,122 views\n",
       "                    </div>\n",
       "                </div>\n",
       "                "
      ],
      "text/plain": [
       "<Item title:\"2021 USA Population Density\" type:Map Image Layer owner:esri>"
      ]
     },
     "execution_count": 116,
     "metadata": {},
     "output_type": "execute_result"
    }
   ],
   "source": [
    "# import demographics data - population by state\n",
    "item_id = 'a8407298de7e48078a2bc9cdd76c79af' #2021 USA Population Density\n",
    "ago_item = my_agol.content.get(item_id)\n",
    "ago_item"
   ]
  },
  {
   "cell_type": "code",
   "execution_count": 117,
   "id": "5c28eaed",
   "metadata": {},
   "outputs": [
    {
     "data": {
      "application/vnd.jupyter.widget-view+json": {
       "model_id": "c4014a2631ec43f084e768a2906a7b68",
       "version_major": 2,
       "version_minor": 0
      },
      "text/plain": [
       "MapView(layout=Layout(height='400px', width='100%'))"
      ]
     },
     "metadata": {},
     "output_type": "display_data"
    },
    {
     "data": {
      "text/html": [
       "<div class=\"map-static-img-preview-6d274a5c-d4d6-4a6f-a4ac-a0de810381ee\"><img src=\"\"></img></div>"
      ],
      "text/plain": [
       "<IPython.core.display.HTML object>"
      ]
     },
     "metadata": {},
     "output_type": "display_data"
    },
    {
     "data": {
      "text/html": [
       "<div class=\"map-html-embed-preview-6d274a5c-d4d6-4a6f-a4ac-a0de810381ee\"></div>"
      ],
      "text/plain": [
       "<IPython.core.display.HTML object>"
      ]
     },
     "metadata": {},
     "output_type": "display_data"
    }
   ],
   "source": [
    "us_map = my_gis.map()\n",
    "#Focus the map to the part of the world containing the example item\n",
    "us_map.extent = ago_item.extent\n",
    "us_map"
   ]
  },
  {
   "cell_type": "code",
   "execution_count": 120,
   "id": "dfe4fa14",
   "metadata": {},
   "outputs": [
    {
     "name": "stdout",
     "output_type": "stream",
     "text": [
      "Token Required\n",
      "(Error Code: 499)\n"
     ]
    },
    {
     "name": "stderr",
     "output_type": "stream",
     "text": [
      "Item.layers is a 'NoneType' object: nothing to be added to map\n"
     ]
    },
    {
     "name": "stdout",
     "output_type": "stream",
     "text": [
      "Token Required\n",
      "(Error Code: 499)\n"
     ]
    }
   ],
   "source": [
    "# convert from item to feature layer then create local spatial dataframe with point geometry\n",
    "# fl_pop = ago_item.layers[0] \n",
    "\n",
    "us_map.add_layer(ago_item)"
   ]
  },
  {
   "cell_type": "code",
   "execution_count": null,
   "id": "8fae55cb",
   "metadata": {},
   "outputs": [],
   "source": []
  }
 ],
 "metadata": {
  "kernelspec": {
   "display_name": "Python 3",
   "language": "python",
   "name": "python3"
  },
  "language_info": {
   "codemirror_mode": {
    "name": "ipython",
    "version": 3
   },
   "file_extension": ".py",
   "mimetype": "text/x-python",
   "name": "python",
   "nbconvert_exporter": "python",
   "pygments_lexer": "ipython3",
   "version": "3.8.8"
  }
 },
 "nbformat": 4,
 "nbformat_minor": 5
}
