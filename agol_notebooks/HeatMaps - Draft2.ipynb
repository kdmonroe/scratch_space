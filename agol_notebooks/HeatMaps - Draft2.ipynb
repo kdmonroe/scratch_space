{
 "cells": [
  {
   "cell_type": "markdown",
   "id": "f9b9082e",
   "metadata": {},
   "source": [
    "## COVID 19 Vaccination Availability Heatmaps \n",
    "### In Pennsylvania, Virginia, and Georgia"
   ]
  },
  {
   "cell_type": "markdown",
   "id": "b2ddfcf7",
   "metadata": {},
   "source": [
    "Also known as hotspot maps, **heatmaps** are useful for visualizing point density. In this notebook, I'll create heatmaps across three states (Pennsylvania, Virginia, and Georgia) to show vaccination availability as a heatmap, overlaid with COVID-19 vaccination rates as a choropleth map.\n",
    "\n",
    "Technology Summary -\n",
    "* ArcGIS Notebook -A Jupyter Notebook environment. Docker image of latest version from ESRI.\n"
   ]
  },
  {
   "cell_type": "code",
   "execution_count": 30,
   "id": "68820013",
   "metadata": {},
   "outputs": [],
   "source": [
    "import arcgis\n",
    "from arcgis.gis import GIS \n",
    "import pandas as pd\n",
    "import datetime as dt\n",
    "from IPython.display import display\n",
    "\n",
    "# create an anonymous connection to ArcGIS Online - \n",
    "my_gis = GIS()"
   ]
  },
  {
   "cell_type": "markdown",
   "id": "5ca5994e",
   "metadata": {},
   "source": [
    "## 1.) Import Source Data - Vaccination Provider Locations, Vaccination Rates"
   ]
  },
  {
   "cell_type": "code",
   "execution_count": 9,
   "id": "8e9218ad",
   "metadata": {},
   "outputs": [
    {
     "data": {
      "text/html": [
       "<div class=\"item_container\" style=\"height: auto; overflow: hidden; border: 1px solid #cfcfcf; border-radius: 2px; background: #f6fafa; line-height: 1.21429em; padding: 10px;\">\n",
       "                    <div class=\"item_left\" style=\"width: 210px; float: left;\">\n",
       "                       <a href='https://www.arcgis.com/home/item.html?id=c50a1a352e944a66aed98e61952051ef' target='_blank'>\n",
       "                        <img src='https://www.arcgis.com/sharing/rest//content/items/c50a1a352e944a66aed98e61952051ef/info/thumbnail/thumbnail1615921822338.png' class=\"itemThumbnail\">\n",
       "                       </a>\n",
       "                    </div>\n",
       "\n",
       "                    <div class=\"item_right\"     style=\"float: none; width: auto; overflow: hidden;\">\n",
       "                        <a href='https://www.arcgis.com/home/item.html?id=c50a1a352e944a66aed98e61952051ef' target='_blank'><b>Covid-19 Vaccination Provider Locations in the United States</b>\n",
       "                        </a>\n",
       "                        <br/>This view layer includes COVID-19 vaccine provider locations sourced by GISCorps volunteers from the providers themselves or from government entities, either via their websites, official communications, or Survey123 form submissions from providers.<img src='https://www.arcgis.com/home/js/jsapi/esri/css/images/item_type_icons/featureshosted16.png' style=\"vertical-align:middle;\">Feature Layer Collection by htorpey_GC\n",
       "                        <br/>Last Modified: October 16, 2021\n",
       "                        <br/>0 comments, 71,639 views\n",
       "                    </div>\n",
       "                </div>\n",
       "                "
      ],
      "text/plain": [
       "<Item title:\"Covid-19 Vaccination Provider Locations in the United States\" type:Feature Layer Collection owner:htorpey_GC>"
      ]
     },
     "execution_count": 9,
     "metadata": {},
     "output_type": "execute_result"
    }
   ],
   "source": [
    "# import dataset from AGOL using item ids\n",
    "item_id = 'c50a1a352e944a66aed98e61952051ef' # Covid-19 Vaccination Provider Locations in the United States\n",
    "ago_vaxProviders = my_gis.content.get(item_id)\n",
    "ago_vaxProviders"
   ]
  },
  {
   "cell_type": "code",
   "execution_count": 10,
   "id": "b69bfed6",
   "metadata": {},
   "outputs": [
    {
     "data": {
      "text/html": [
       "<div class=\"item_container\" style=\"height: auto; overflow: hidden; border: 1px solid #cfcfcf; border-radius: 2px; background: #f6fafa; line-height: 1.21429em; padding: 10px;\">\n",
       "                    <div class=\"item_left\" style=\"width: 210px; float: left;\">\n",
       "                       <a href='https://www.arcgis.com/home/item.html?id=628578697fb24d8ea4c32fa0c5ae1843' target='_blank'>\n",
       "                        <img src='https://www.arcgis.com/sharing/rest//content/items/628578697fb24d8ea4c32fa0c5ae1843/info/thumbnail/thumbnail1584926359474.png' class=\"itemThumbnail\">\n",
       "                       </a>\n",
       "                    </div>\n",
       "\n",
       "                    <div class=\"item_right\"     style=\"float: none; width: auto; overflow: hidden;\">\n",
       "                        <a href='https://www.arcgis.com/home/item.html?id=628578697fb24d8ea4c32fa0c5ae1843' target='_blank'><b>COVID-19 Cases US</b>\n",
       "                        </a>\n",
       "                        <br/>The current situation for the COVID-19 virus in the US updated hourly.<img src='https://www.arcgis.com/home/js/jsapi/esri/css/images/item_type_icons/featureshosted16.png' style=\"vertical-align:middle;\">Feature Layer Collection by CSSE_covid19\n",
       "                        <br/>Last Modified: November 29, 2021\n",
       "                        <br/>0 comments, 210,180,434 views\n",
       "                    </div>\n",
       "                </div>\n",
       "                "
      ],
      "text/plain": [
       "<Item title:\"COVID-19 Cases US\" type:Feature Layer Collection owner:CSSE_covid19>"
      ]
     },
     "execution_count": 10,
     "metadata": {},
     "output_type": "execute_result"
    }
   ],
   "source": [
    "item_id = '628578697fb24d8ea4c32fa0c5ae1843' # Covid-19 Vaccination Provider Locations in the United States\n",
    "ago_jhuCases = my_gis.content.get(item_id)\n",
    "ago_jhuCases"
   ]
  },
  {
   "cell_type": "code",
   "execution_count": 12,
   "id": "1602dc6d",
   "metadata": {},
   "outputs": [
    {
     "data": {
      "text/html": [
       "<div class=\"item_container\" style=\"height: auto; overflow: hidden; border: 1px solid #cfcfcf; border-radius: 2px; background: #f6fafa; line-height: 1.21429em; padding: 10px;\">\n",
       "                    <div class=\"item_left\" style=\"width: 210px; float: left;\">\n",
       "                       <a href='https://www.arcgis.com/home/item.html?id=48f9af87daa241c4b267c5931ad3b226' target='_blank'>\n",
       "                        <img src='https://www.arcgis.com/sharing/rest//content/items/48f9af87daa241c4b267c5931ad3b226/info/thumbnail/thumbnail1633974931084.jpeg' class=\"itemThumbnail\">\n",
       "                       </a>\n",
       "                    </div>\n",
       "\n",
       "                    <div class=\"item_right\"     style=\"float: none; width: auto; overflow: hidden;\">\n",
       "                        <a href='https://www.arcgis.com/home/item.html?id=48f9af87daa241c4b267c5931ad3b226' target='_blank'><b>USA Counties</b>\n",
       "                        </a>\n",
       "                        <br/>U.S. Counties represents the counties of the United States in the 50 states, the District of Columbia, and Puerto Rico.<img src='https://www.arcgis.com/home/js/jsapi/esri/css/images/item_type_icons/featureshosted16.png' style=\"vertical-align:middle;\">Feature Layer Collection by esri_dm\n",
       "                        <br/>Last Modified: October 11, 2021\n",
       "                        <br/>0 comments, 220,605,650 views\n",
       "                    </div>\n",
       "                </div>\n",
       "                "
      ],
      "text/plain": [
       "<Item title:\"USA Counties\" type:Feature Layer Collection owner:esri_dm>"
      ]
     },
     "execution_count": 12,
     "metadata": {},
     "output_type": "execute_result"
    }
   ],
   "source": [
    "item_id = '48f9af87daa241c4b267c5931ad3b226' # ESRI USA Counties\n",
    "ago_usCounties = my_gis.content.get(item_id)\n",
    "ago_usCounties"
   ]
  },
  {
   "cell_type": "markdown",
   "id": "5674316e",
   "metadata": {},
   "source": [
    "### Prepare Data\n",
    "Now that the AGOL items are available, we need to do some data preparation to cleanly add them as heatmap and choropleth layers."
   ]
  },
  {
   "cell_type": "code",
   "execution_count": 14,
   "id": "afcf4052",
   "metadata": {},
   "outputs": [
    {
     "name": "stdout",
     "output_type": "stream",
     "text": [
      "\n",
      "Data Type of Vaccine Providers Object: <class 'pandas.core.frame.DataFrame'>\n",
      "\n",
      "\n",
      "Columns in COVID-19 Vaccine Providers Layer: \n",
      "['OBJECTID', 'facilityid', 'name', 'fulladdr', 'municipality', 'agency', 'agencytype', 'phone', 'agencyurl', 'operhours', 'comments', 'Instructions', 'numvehicles', 'testcapacity', 'status', 'CreationDate', 'EditDate', 'drive_through', 'appt_only', 'referral_required', 'services_offered_onsite', 'call_first', 'virtual_screening', 'health_dept_url', 'State', 'GlobalID', 'data_source', 'county', 'red_flag', 'vol_note', 'public_form', 'start_date', 'end_date', 'type_of_test', 'test_processing', 'fine_print', 'vehicle_required', 'facility_type', 'Outside_FID', 'filter', 'bulk_upload', 'Same_Day_Results', 'take_home_test', 'Wheelchair_Accessible', 'Accessibility_Support', 'offers_vaccine', 'vaccine_url', 'minimum_age_vaccine', 'verified_date', 'SHAPE']\n"
     ]
    }
   ],
   "source": [
    "# filter vax providers by status and state\n",
    "fl_vaxProviders = ago_vaxProviders.layers[0]  # convert ago item to feature layer\n",
    "\n",
    "sdf_vaxProviders = fl_vaxProviders.query(return_geometry=True,\n",
    "                                  as_df=True)\n",
    "print(f'\\nData Type of Vaccine Providers Object:\\n{ type(sdf_vaxProviders) }')\n",
    "print(f'\\n\\nColumns in COVID-19 Vaccine Providers Layer: \\n{list(sdf_vaxProviders.columns)}')"
   ]
  },
  {
   "cell_type": "code",
   "execution_count": 36,
   "id": "f2ba15da",
   "metadata": {},
   "outputs": [
    {
     "name": "stdout",
     "output_type": "stream",
     "text": [
      "Unique Status Types:\n",
      "['Open' 'Closed' 'Testing Restricted' 'Scheduled to Close'\n",
      " 'Temporarily Closed' 'Scheduled to Open']\n",
      "\n",
      "\n",
      "# of Active COVID-19 Vaccination Sites in United States (as of 2021-11-29) :\n",
      "\t34795\n"
     ]
    }
   ],
   "source": [
    "# review unique values of status for subsetting - which are \"active\" ?\n",
    "all_status = sdf_vaxProviders['status'].unique()\n",
    "print(f'Unique Status Types:\\n{ all_status }')\n",
    "\n",
    "active_fields = ['Open', 'Scheduled to Open']\n",
    "\n",
    "sdf_vaxActive = sdf_vaxProviders.loc[sdf_vaxProviders['status'].isin(active_fields)]\n",
    "local_now = dt.datetime.now()\n",
    "\n",
    "print(f'\\n\\n# of Active COVID-19 Vaccination Sites in United States (as of {local_now.date()}) :')\n",
    "print(f'\\t{ sdf_vaxActive.shape[0] }')"
   ]
  },
  {
   "cell_type": "code",
   "execution_count": null,
   "id": "a4493755",
   "metadata": {},
   "outputs": [],
   "source": []
  },
  {
   "cell_type": "code",
   "execution_count": null,
   "id": "6ca0b97d",
   "metadata": {},
   "outputs": [],
   "source": [
    "# get subsets for each state by filtering the dataframe\n",
    "sdf_vacPA = sdf_vaxProviders.loc[sdf_vaxProviders['State'] == PA]\n"
   ]
  },
  {
   "cell_type": "code",
   "execution_count": null,
   "id": "c735bcec",
   "metadata": {},
   "outputs": [],
   "source": [
    "# translate the John Hopkins cases and US counties as a spatial dataframe \n",
    "\n",
    "# join the case information by the state and county name"
   ]
  },
  {
   "cell_type": "markdown",
   "id": "7156540f",
   "metadata": {},
   "source": [
    "## 2.) Initialize Web Maps\n",
    "I presume testing sites would be more available (dense) in more populus locations. \n",
    "* What does a map with an underlying choropleth map suggest?"
   ]
  },
  {
   "cell_type": "code",
   "execution_count": null,
   "id": "0ede21be",
   "metadata": {},
   "outputs": [],
   "source": [
    "# initialize webmaps for all states\n",
    "\n",
    "# PA\n",
    "\n",
    "# NJ\n",
    "\n",
    "# GA"
   ]
  },
  {
   "cell_type": "markdown",
   "id": "d2fa04aa",
   "metadata": {},
   "source": [
    "## 3.) Add HeatMap and Choropleths as layers"
   ]
  },
  {
   "cell_type": "code",
   "execution_count": null,
   "id": "a7fc4f7a",
   "metadata": {},
   "outputs": [],
   "source": [
    "# add layers"
   ]
  },
  {
   "cell_type": "code",
   "execution_count": null,
   "id": "e0d85554",
   "metadata": {},
   "outputs": [],
   "source": [
    "# export maps as PNG"
   ]
  }
 ],
 "metadata": {
  "kernelspec": {
   "display_name": "Python 3",
   "language": "python",
   "name": "python3"
  },
  "language_info": {
   "codemirror_mode": {
    "name": "ipython",
    "version": 3
   },
   "file_extension": ".py",
   "mimetype": "text/x-python",
   "name": "python",
   "nbconvert_exporter": "python",
   "pygments_lexer": "ipython3",
   "version": "3.8.8"
  }
 },
 "nbformat": 4,
 "nbformat_minor": 5
}
