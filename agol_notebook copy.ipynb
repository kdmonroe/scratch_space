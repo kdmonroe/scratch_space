{
 "cells": [
  {
   "cell_type": "code",
   "execution_count": 16,
   "source": [
    "import arcgis\n",
    "from arcgis.gis import GIS"
   ],
   "outputs": [],
   "metadata": {}
  },
  {
   "cell_type": "code",
   "execution_count": 17,
   "source": [
    "ago_gis = GIS() # Connect to ArcGIS Online as an anonymous user"
   ],
   "outputs": [],
   "metadata": {}
  },
  {
   "cell_type": "code",
   "execution_count": 18,
   "source": [
    "subset_map = ago_gis.map(\"Philadelphia, PA\", zoomlevel=11)\n",
    "subset_map"
   ],
   "outputs": [
    {
     "output_type": "display_data",
     "data": {
      "application/vnd.jupyter.widget-view+json": {
       "version_major": 2,
       "version_minor": 0,
       "model_id": "368771ccdaa7470cad237a981c9d5ffc"
      },
      "text/plain": [
       "MapView(layout=Layout(height='400px', width='100%'), zoom=11.0)"
      ]
     },
     "metadata": {}
    },
    {
     "output_type": "display_data",
     "data": {
      "text/html": [
       "<div class=\"map-static-img-preview-ec934930-935d-4bd0-80f6-6214c9626a66\"><img src=\"\"></img></div>"
      ],
      "text/plain": [
       "<IPython.core.display.HTML object>"
      ]
     },
     "metadata": {}
    }
   ],
   "metadata": {}
  },
  {
   "cell_type": "markdown",
   "source": [
    "### Create Zip Code Boundaries using GeoJSON from Open Data Philly\n",
    "Source: https://www.opendataphilly.org/dataset/zip-codes/resource/825cc9f5-92c2-4b7c-8b4e-6affa41396ee"
   ],
   "metadata": {}
  },
  {
   "cell_type": "markdown",
   "source": [
    "from_geojson(geojson)\n",
    "The from_geoJSON method creates a FeatureSet objects from a GEO JSON FeatureCollection object\n",
    "\n",
    "Returns\n",
    "A FeatureSet object"
   ],
   "metadata": {}
  },
  {
   "cell_type": "code",
   "execution_count": 19,
   "source": [
    "from arcgis.features import Feature, FeatureSet\n",
    "from arcgis.features import FeatureLayerCollection"
   ],
   "outputs": [],
   "metadata": {}
  },
  {
   "cell_type": "code",
   "execution_count": 20,
   "source": [
    "ago_phl_zipCode = ago_gis.content.get(\"b54ec5210cee41c3a884c9086f7af1be\")\n",
    "ago_phl_zipCode"
   ],
   "outputs": [
    {
     "output_type": "execute_result",
     "data": {
      "text/html": [
       "<div class=\"item_container\" style=\"height: auto; overflow: hidden; border: 1px solid #cfcfcf; border-radius: 2px; background: #f6fafa; line-height: 1.21429em; padding: 10px;\">\n",
       "                    <div class=\"item_left\" style=\"width: 210px; float: left;\">\n",
       "                       <a href='https://www.arcgis.com/home/item.html?id=b54ec5210cee41c3a884c9086f7af1be' target='_blank'>\n",
       "                        <img src='https://www.arcgis.com/sharing/rest//content/items/b54ec5210cee41c3a884c9086f7af1be/info/thumbnail/zipcodes-poly_b54ec5210cee41c3a884c9086f7af1be.png' class=\"itemThumbnail\">\n",
       "                       </a>\n",
       "                    </div>\n",
       "\n",
       "                    <div class=\"item_right\"     style=\"float: none; width: auto; overflow: hidden;\">\n",
       "                        <a href='https://www.arcgis.com/home/item.html?id=b54ec5210cee41c3a884c9086f7af1be' target='_blank'><b>Zipcodes_Poly</b>\n",
       "                        </a>\n",
       "                        <br/>The purpose of this dataset is to represent the Zip Code areas for the City of Philadelphia.  cartographic purposes.<img src='https://www.arcgis.com/home/js/jsapi/esri/css/images/item_type_icons/featureshosted16.png' style=\"vertical-align:middle;\">Feature Layer Collection by maps.phl.data\n",
       "                        <br/>Last Modified: October 09, 2020\n",
       "                        <br/>0 comments, 72,702 views\n",
       "                    </div>\n",
       "                </div>\n",
       "                "
      ],
      "text/plain": [
       "<Item title:\"Zipcodes_Poly\" type:Feature Layer Collection owner:maps.phl.data>"
      ]
     },
     "metadata": {},
     "execution_count": 20
    }
   ],
   "metadata": {}
  },
  {
   "cell_type": "code",
   "execution_count": 21,
   "source": [
    "ago_phl_crime = ago_gis.content.get(\"abe39f44c8af4bfb8bfb2ec7d233d920\")\n",
    "ago_phl_crime"
   ],
   "outputs": [
    {
     "output_type": "execute_result",
     "data": {
      "text/html": [
       "<div class=\"item_container\" style=\"height: auto; overflow: hidden; border: 1px solid #cfcfcf; border-radius: 2px; background: #f6fafa; line-height: 1.21429em; padding: 10px;\">\n",
       "                    <div class=\"item_left\" style=\"width: 210px; float: left;\">\n",
       "                       <a href='https://www.arcgis.com/home/item.html?id=abe39f44c8af4bfb8bfb2ec7d233d920' target='_blank'>\n",
       "                        <img src='https://www.arcgis.com/sharing/rest//content/items/abe39f44c8af4bfb8bfb2ec7d233d920/info/thumbnail/incidents-part1-part2_abe39f44c8af4bfb8bfb2ec7d233d920.png' class=\"itemThumbnail\">\n",
       "                       </a>\n",
       "                    </div>\n",
       "\n",
       "                    <div class=\"item_right\"     style=\"float: none; width: auto; overflow: hidden;\">\n",
       "                        <a href='https://www.arcgis.com/home/item.html?id=abe39f44c8af4bfb8bfb2ec7d233d920' target='_blank'><b>INCIDENTS_PART1_PART2</b>\n",
       "                        </a>\n",
       "                        <br/>Part 1 & Part 2 Crime Incidents from the Police Department's INCT system with generalized UCR codes and addresses rounded to the hundred block.<img src='https://www.arcgis.com/home/js/jsapi/esri/css/images/item_type_icons/featureshosted16.png' style=\"vertical-align:middle;\">Feature Layer Collection by maps.phl.data\n",
       "                        <br/>Last Modified: September 09, 2021\n",
       "                        <br/>0 comments, 8,734 views\n",
       "                    </div>\n",
       "                </div>\n",
       "                "
      ],
      "text/plain": [
       "<Item title:\"INCIDENTS_PART1_PART2\" type:Feature Layer Collection owner:maps.phl.data>"
      ]
     },
     "metadata": {},
     "execution_count": 21
    }
   ],
   "metadata": {}
  },
  {
   "cell_type": "code",
   "execution_count": null,
   "source": [],
   "outputs": [],
   "metadata": {}
  }
 ],
 "metadata": {
  "orig_nbformat": 4,
  "kernelspec": {
   "name": "python3",
   "display_name": "Python 3",
   "language": "python"
  },
  "language_info": {
   "name": "python",
   "version": "3.6.7",
   "mimetype": "text/x-python",
   "codemirror_mode": {
    "name": "ipython",
    "version": 3
   },
   "pygments_lexer": "ipython3",
   "nbconvert_exporter": "python",
   "file_extension": ".py"
  }
 },
 "nbformat": 4,
 "nbformat_minor": 2
}